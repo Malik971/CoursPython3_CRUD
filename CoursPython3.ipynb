{
 "cells": [
  {
   "cell_type": "markdown",
   "id": "bfbc0f8a",
   "metadata": {},
   "source": [
    "#### Ecrire un programme Python qui  parcourt une liste prédéfinie de nombre entiers, recherche un nombre spécifique dans cette liste et remplacetoutes ses occurrences par un autre nombre."
   ]
  },
  {
   "cell_type": "code",
   "execution_count": 1,
   "id": "1b642641",
   "metadata": {},
   "outputs": [
    {
     "data": {
      "text/plain": [
       "[100, 35, 100, 9, 56, 24, 35, 100, 89, 24, 35, 100]"
      ]
     },
     "execution_count": 1,
     "metadata": {},
     "output_type": "execute_result"
    }
   ],
   "source": [
    "liste = [12, 35, 12, 9, 56, 24, 35, 12, 89, 24, 35, 12]\n",
    "[100 if x == 12 else x for x in liste]\n"
   ]
  },
  {
   "cell_type": "code",
   "execution_count": 2,
   "id": "3de451f1",
   "metadata": {},
   "outputs": [
    {
     "name": "stdout",
     "output_type": "stream",
     "text": [
      "Liste avant le remplacement [12, 35, 12, 9, 56, 24, 35, 12, 89, 24, 35, 12]\n",
      "Liste après le remplacement [100, 35, 100, 9, 56, 24, 35, 100, 89, 24, 35, 100]\n"
     ]
    }
   ],
   "source": [
    "# solution (d'écraser la première liste par la deuxième)\n",
    "liste_nombre = [12, 35, 12, 9, 56, 24, 35, 12, 89, 24, 35, 12]\n",
    "liste_recheche = 12\n",
    "liste_remplace = 100\n",
    "\n",
    "print(\"Liste avant le remplacement\",liste_nombre)\n",
    "\n",
    "def remplacer (liste_nombre, liste_recheche, liste_remplace):\n",
    "    \n",
    "    for i in range(len(liste_nombre)):\n",
    "        if liste_nombre[i] == liste_recheche:\n",
    "            liste_nombre[i] = liste_remplace\n",
    "    return liste_nombre\n",
    "\n",
    "print(\"Liste après le remplacement\", remplacer(liste_nombre, liste_recheche, liste_remplace))\n"
   ]
  },
  {
   "cell_type": "code",
   "execution_count": 3,
   "id": "2e4b8ed4",
   "metadata": {},
   "outputs": [
    {
     "name": "stdout",
     "output_type": "stream",
     "text": [
      "Liste avant le remplacement [12, 35, 12, 9, 56, 24, 35, 12, 89, 24, 35, 12]\n",
      "Liste après le remplacement [100, 35, 100, 9, 56, 24, 35, 100, 89, 24, 35, 100]\n"
     ]
    }
   ],
   "source": [
    "# solution 2: à l'aide d'une fonction(d'écraser la première liste par la deuxième)\n",
    "liste_nombre = [12, 35, 12, 9, 56, 24, 35, 12, 89, 24, 35, 12]\n",
    "liste_recheche = 12\n",
    "liste_remplace = 100\n",
    "print(\"Liste avant le remplacement\",liste_nombre)\n",
    "for i in range(len(liste_nombre)):\n",
    "    if liste_nombre[i] == liste_recheche:\n",
    "        liste_nombre[i] = liste_remplace\n",
    "print(\"Liste après le remplacement\",liste_nombre)\n"
   ]
  },
  {
   "cell_type": "code",
   "execution_count": 4,
   "id": "cddccac9",
   "metadata": {},
   "outputs": [
    {
     "name": "stdout",
     "output_type": "stream",
     "text": [
      "Liste avant le remplacement [12, 35, 12, 9, 56, 24, 35, 12, 89, 24, 35, 12]\n",
      "Liste après le remplacement [100, 35, 100, 9, 56, 24, 35, 100, 89, 24, 35, 100]\n"
     ]
    }
   ],
   "source": [
    "# solution 3: faire une nouvelle liste pour éviter de modifier la liste iniciale\n",
    "liste_nombre = [12, 35, 12, 9, 56, 24, 35, 12, 89, 24, 35, 12]\n",
    "liste_recheche = 12\n",
    "liste_remplace = 100\n",
    "\n",
    "liste_apres = liste_nombre\n",
    "\n",
    "print(\"Liste avant le remplacement\",liste_nombre)\n",
    "cpt = 0\n",
    "for i in liste_apres:\n",
    "    if i == liste_recheche:\n",
    "        liste_apres[cpt] = liste_remplace\n",
    "    cpt += 1 # cpt = cpt + 1\n",
    "print(\"Liste après le remplacement\",liste_apres)"
   ]
  },
  {
   "cell_type": "markdown",
   "id": "2bd1fbb9",
   "metadata": {},
   "source": [
    "#### Les dictionnaires\n",
    "Un dictionnaire en Python est une collecte d'élément **non ordonnées, modifiables et indexée**. Chaque élément dans un dictionnaire est une pair **clé-valeur, ou chaque clé est unique.**\n",
    "Son Avantage: les dictionnaires sont optimiser pour récupérer rapidement des valeurs lorsque vous connaissez la clé, ce qui les rend **idéaux pour stocker des données qui est nécessaire de récupérrer éfficacement.**"
   ]
  },
  {
   "cell_type": "code",
   "execution_count": 5,
   "id": "ec2647a5",
   "metadata": {},
   "outputs": [
    {
     "data": {
      "text/plain": [
       "{'loyer': 378, 'divertissement': 50, 'sante': 200, 'transport': 20}"
      ]
     },
     "execution_count": 5,
     "metadata": {},
     "output_type": "execute_result"
    }
   ],
   "source": [
    "# Comment créer un dictionnaire de données (pour mes dépences mensuelles du mois)\n",
    "depences_mensuelles = {\"loyer\": 378,\n",
    "                       \"divertissement\": 50,\n",
    "                       \"sante\": 200,\n",
    "                       \"transport\": 20}\n",
    "depences_mensuelles"
   ]
  },
  {
   "cell_type": "code",
   "execution_count": 6,
   "id": "b63a0028",
   "metadata": {},
   "outputs": [
    {
     "data": {
      "text/plain": [
       "dict"
      ]
     },
     "execution_count": 6,
     "metadata": {},
     "output_type": "execute_result"
    }
   ],
   "source": [
    "type(depences_mensuelles)"
   ]
  },
  {
   "cell_type": "code",
   "execution_count": 7,
   "id": "a98fe875",
   "metadata": {},
   "outputs": [
    {
     "data": {
      "text/plain": [
       "{'loyer': 378, 'divertissement': 50, 'sante': 68, 'transport': 20}"
      ]
     },
     "execution_count": 7,
     "metadata": {},
     "output_type": "execute_result"
    }
   ],
   "source": [
    "# impossible d'avoir deux clés identiques\n",
    "\n",
    "depences_mensuelles = {\"loyer\": 378,\n",
    "                       \"divertissement\": 50,\n",
    "                       \"sante\": 200,\n",
    "                       \"transport\": 20,\n",
    "                       \"sante\": 68}\n",
    "depences_mensuelles"
   ]
  },
  {
   "cell_type": "code",
   "execution_count": 10,
   "id": "43359246",
   "metadata": {},
   "outputs": [
    {
     "data": {
      "text/plain": [
       "4"
      ]
     },
     "execution_count": 10,
     "metadata": {},
     "output_type": "execute_result"
    }
   ],
   "source": [
    "len(depences_mensuelles)"
   ]
  },
  {
   "cell_type": "code",
   "execution_count": 8,
   "id": "24fad880",
   "metadata": {},
   "outputs": [],
   "source": [
    "# utilisation en machine learning avec possibillité de créer des dictionnaires de dictionnaire\n",
    "\n",
    "depences_janvier = {\"loyer\": 348,\n",
    "                       \"divertissement\": 50,\n",
    "                       \"sante\": 200,\n",
    "                       \"transport\": 20}\n",
    "\n",
    "depences_fevrier = {\"loyer\": 378,\n",
    "                       \"divertissement\": 190,\n",
    "                       \"sante\": 0,\n",
    "                       \"transport\": 35}\n",
    "\n",
    "depences_mars = {\"loyer\": 378,\n",
    "                       \"divertissement\": 500,\n",
    "                       \"sante\": 80,\n",
    "                       \"transport\": 15}\n",
    "\n",
    "depences_annuelle = {\n",
    "                    \"janvier\": depences_janvier,\n",
    "                    \"fevrier\": depences_fevrier,\n",
    "                    \"mars\": depences_mars\n",
    "                    }"
   ]
  },
  {
   "cell_type": "code",
   "execution_count": 9,
   "id": "2d3b2fe0",
   "metadata": {},
   "outputs": [
    {
     "data": {
      "text/plain": [
       "3"
      ]
     },
     "execution_count": 9,
     "metadata": {},
     "output_type": "execute_result"
    }
   ],
   "source": [
    "len(depences_annuelle)"
   ]
  },
  {
   "cell_type": "markdown",
   "id": "810e2cbb",
   "metadata": {},
   "source": [
    "# Read My Dictionnairy"
   ]
  },
  {
   "cell_type": "code",
   "execution_count": 11,
   "id": "55ef2834",
   "metadata": {},
   "outputs": [
    {
     "data": {
      "text/plain": [
       "378"
      ]
     },
     "execution_count": 11,
     "metadata": {},
     "output_type": "execute_result"
    }
   ],
   "source": [
    "# Lire une clé\n",
    "depences_mensuelles[\"loyer\"]"
   ]
  },
  {
   "cell_type": "code",
   "execution_count": 18,
   "id": "e9f82f74",
   "metadata": {},
   "outputs": [
    {
     "name": "stdout",
     "output_type": "stream",
     "text": [
      "None\n"
     ]
    }
   ],
   "source": [
    "# Tester une autre clé\n",
    "# depences_mensuelles[\"existe pas\"] X\n",
    "existe = depences_mensuelles.get(\"existe\")\n",
    "print(existe)"
   ]
  },
  {
   "cell_type": "code",
   "execution_count": 19,
   "id": "b50f5a50",
   "metadata": {},
   "outputs": [
    {
     "data": {
      "text/plain": [
       "dict_keys(['loyer', 'divertissement', 'sante', 'transport'])"
      ]
     },
     "execution_count": 19,
     "metadata": {},
     "output_type": "execute_result"
    }
   ],
   "source": [
    "# Obtenir toutes lesclés spécifique\n",
    "depences_mensuelles.keys()\n"
   ]
  },
  {
   "cell_type": "code",
   "execution_count": 25,
   "id": "19cfd711",
   "metadata": {},
   "outputs": [
    {
     "data": {
      "text/plain": [
       "50"
      ]
     },
     "execution_count": 25,
     "metadata": {},
     "output_type": "execute_result"
    }
   ],
   "source": [
    "# Accéder à une clé spécifique\n",
    "depences_mensuelles[list(depences_mensuelles.keys())[1]]\n",
    "\n"
   ]
  },
  {
   "cell_type": "code",
   "execution_count": 28,
   "id": "90771d0d",
   "metadata": {},
   "outputs": [
    {
     "data": {
      "text/plain": [
       "dict_values([378, 50, 68, 20])"
      ]
     },
     "execution_count": 28,
     "metadata": {},
     "output_type": "execute_result"
    }
   ],
   "source": [
    "# Obtenir les valeurs\n",
    "depences_mensuelles.values"
   ]
  },
  {
   "cell_type": "code",
   "execution_count": 33,
   "id": "10614d92",
   "metadata": {},
   "outputs": [
    {
     "data": {
      "text/plain": [
       "dict_items([('loyer', 378), ('divertissement', 50), ('sante', 68), ('transport', 20)])"
      ]
     },
     "execution_count": 33,
     "metadata": {},
     "output_type": "execute_result"
    }
   ],
   "source": [
    "# Obtenir les items\n",
    "depences_mensuelles.items()"
   ]
  },
  {
   "cell_type": "code",
   "execution_count": 35,
   "id": "d8d73d78",
   "metadata": {},
   "outputs": [
    {
     "data": {
      "text/plain": [
       "4"
      ]
     },
     "execution_count": 35,
     "metadata": {},
     "output_type": "execute_result"
    }
   ],
   "source": [
    "# Taille du dictionnaire\n",
    "len(depences_mensuelles)"
   ]
  },
  {
   "cell_type": "markdown",
   "id": "2ca8c2fb",
   "metadata": {},
   "source": [
    "# Update"
   ]
  },
  {
   "cell_type": "code",
   "execution_count": 36,
   "id": "4818c58e",
   "metadata": {},
   "outputs": [
    {
     "data": {
      "text/plain": [
       "{'loyer': 600, 'divertissement': 50, 'sante': 68, 'transport': 20}"
      ]
     },
     "execution_count": 36,
     "metadata": {},
     "output_type": "execute_result"
    }
   ],
   "source": [
    "# Mettre à jour la valeur d'une clé dans le dictionnaire\n",
    "depences_mensuelles[\"loyer\"] = 600\n",
    "depences_mensuelles"
   ]
  },
  {
   "cell_type": "code",
   "execution_count": 37,
   "id": "e3163676",
   "metadata": {},
   "outputs": [
    {
     "data": {
      "text/plain": [
       "{'loyer': 600,\n",
       " 'divertissement': 50,\n",
       " 'sante': 68,\n",
       " 'transport': 20,\n",
       " 'Alternance': 980}"
      ]
     },
     "execution_count": 37,
     "metadata": {},
     "output_type": "execute_result"
    }
   ],
   "source": [
    "# Ajouter un nouveaux élément dans mon dictionnaire\n",
    "depences_mensuelles[\"Alternance\"] = 980\n",
    "depences_mensuelles"
   ]
  },
  {
   "cell_type": "markdown",
   "id": "1b730b6e",
   "metadata": {},
   "source": [
    "# Delete"
   ]
  },
  {
   "cell_type": "code",
   "execution_count": 40,
   "id": "ddc41e1b",
   "metadata": {},
   "outputs": [
    {
     "data": {
      "text/plain": [
       "{'loyer': 600, 'divertissement': 50, 'sante': 68, 'transport': 20}"
      ]
     },
     "execution_count": 40,
     "metadata": {},
     "output_type": "execute_result"
    }
   ],
   "source": [
    "# Supprimer une clé avec la fonction del\n",
    "# del depences_mensuelles['Alternance']\n",
    "depences_mensuelles"
   ]
  },
  {
   "cell_type": "code",
   "execution_count": 41,
   "id": "88a5454f",
   "metadata": {},
   "outputs": [],
   "source": [
    "# méthode pop propre au dictionnaire qui retoune \n",
    "# la valeur dans une autre variable mieux pour un programme dinamique\n",
    "transport = depences_mensuelles.pop(\"transport\")"
   ]
  },
  {
   "cell_type": "code",
   "execution_count": 42,
   "id": "36611b87",
   "metadata": {},
   "outputs": [
    {
     "name": "stdout",
     "output_type": "stream",
     "text": [
      "20\n",
      "{'loyer': 600, 'divertissement': 50, 'sante': 68}\n"
     ]
    }
   ],
   "source": [
    "print(transport)\n",
    "print(depences_mensuelles)"
   ]
  },
  {
   "cell_type": "markdown",
   "id": "00d5be05",
   "metadata": {},
   "source": [
    "## Utilisation des distionnaires dans les boucles for"
   ]
  },
  {
   "cell_type": "code",
   "execution_count": 45,
   "id": "167d81e2",
   "metadata": {},
   "outputs": [
    {
     "name": "stdout",
     "output_type": "stream",
     "text": [
      "loyer\n",
      "divertissement\n",
      "sante\n"
     ]
    }
   ],
   "source": [
    "# For avec les clés\n",
    "for k in depences_mensuelles.keys():\n",
    "    print(k)"
   ]
  },
  {
   "cell_type": "code",
   "execution_count": 46,
   "id": "c0b94dc9",
   "metadata": {},
   "outputs": [
    {
     "name": "stdout",
     "output_type": "stream",
     "text": [
      "600\n",
      "50\n",
      "68\n"
     ]
    }
   ],
   "source": [
    "# For avec les valeurs\n",
    "for val in depences_mensuelles.values():\n",
    "    print(val)"
   ]
  },
  {
   "cell_type": "code",
   "execution_count": 47,
   "id": "cd830d83",
   "metadata": {},
   "outputs": [
    {
     "name": "stdout",
     "output_type": "stream",
     "text": [
      "('loyer', 600)\n",
      "('divertissement', 50)\n",
      "('sante', 68)\n"
     ]
    }
   ],
   "source": [
    "for i in depences_mensuelles.items():\n",
    "    print(i)"
   ]
  },
  {
   "cell_type": "code",
   "execution_count": 53,
   "id": "1d0b0dd5",
   "metadata": {},
   "outputs": [
    {
     "name": "stdout",
     "output_type": "stream",
     "text": [
      "Durant le mois de janvier\n",
      "J'ai dépensé loyer 348\n",
      "J'ai dépensé divertissement 50\n",
      "J'ai dépensé sante 200\n",
      "J'ai dépensé transport 20\n",
      "Durant le mois de fevrier\n",
      "J'ai dépensé loyer 378\n",
      "J'ai dépensé divertissement 190\n",
      "J'ai dépensé sante 0\n",
      "J'ai dépensé transport 35\n",
      "Durant le mois de mars\n",
      "J'ai dépensé loyer 378\n",
      "J'ai dépensé divertissement 500\n",
      "J'ai dépensé sante 80\n",
      "J'ai dépensé transport 15\n"
     ]
    }
   ],
   "source": [
    "for k,v in depences_annuelle.items():\n",
    "    print(\"Durant le mois de\",k)\n",
    "    for i,j in v.items():\n",
    "        print(\"J'ai dépensé\",i,j)"
   ]
  },
  {
   "cell_type": "markdown",
   "id": "912adf6f",
   "metadata": {},
   "source": [
    "# Formule générale\n",
    "\n",
    "[nouvel_element for element in liste_originale if condition]"
   ]
  },
  {
   "cell_type": "code",
   "execution_count": null,
   "id": "c6d93cdd",
   "metadata": {},
   "outputs": [],
   "source": [
    "# Créer la liste des carrés de 0 à 99\n"
   ]
  },
  {
   "cell_type": "code",
   "execution_count": 56,
   "id": "1eb2f832",
   "metadata": {},
   "outputs": [
    {
     "name": "stdout",
     "output_type": "stream",
     "text": [
      "[0, 1, 4, 9, 16, 25, 36, 49, 64, 81, 100, 121, 144, 169, 196, 225, 256, 289, 324, 361, 400, 441, 484, 529, 576, 625, 676, 729, 784, 841, 900, 961, 1024, 1089, 1156, 1225, 1296, 1369, 1444, 1521, 1600, 1681, 1764, 1849, 1936, 2025, 2116, 2209, 2304, 2401, 2500, 2601, 2704, 2809, 2916, 3025, 3136, 3249, 3364, 3481, 3600, 3721, 3844, 3969, 4096, 4225, 4356, 4489, 4624, 4761, 4900, 5041, 5184, 5329, 5476, 5625, 5776, 5929, 6084, 6241, 6400, 6561, 6724, 6889, 7056, 7225, 7396, 7569, 7744, 7921, 8100, 8281, 8464, 8649, 8836, 9025, 9216, 9409, 9604, 9801]\n"
     ]
    }
   ],
   "source": [
    "# Approche classique\n",
    "liste_carre = []\n",
    "for i in range(100) :\n",
    "    liste_carre.append(i**2)\n",
    "print(liste_carre)"
   ]
  },
  {
   "cell_type": "code",
   "execution_count": 57,
   "id": "1d63bf67",
   "metadata": {},
   "outputs": [
    {
     "name": "stdout",
     "output_type": "stream",
     "text": [
      "[0, 1, 4, 9, 16, 25, 36, 49, 64, 81, 100, 121, 144, 169, 196, 225, 256, 289, 324, 361, 400, 441, 484, 529, 576, 625, 676, 729, 784, 841, 900, 961, 1024, 1089, 1156, 1225, 1296, 1369, 1444, 1521, 1600, 1681, 1764, 1849, 1936, 2025, 2116, 2209, 2304, 2401, 2500, 2601, 2704, 2809, 2916, 3025, 3136, 3249, 3364, 3481, 3600, 3721, 3844, 3969, 4096, 4225, 4356, 4489, 4624, 4761, 4900, 5041, 5184, 5329, 5476, 5625, 5776, 5929, 6084, 6241, 6400, 6561, 6724, 6889, 7056, 7225, 7396, 7569, 7744, 7921, 8100, 8281, 8464, 8649, 8836, 9025, 9216, 9409, 9604]\n"
     ]
    }
   ],
   "source": [
    "# Définition en compréhension\n",
    "liste_carre_comprehension = [x ** 2 for x in range(99)]\n",
    "print(liste_carre_comprehension)"
   ]
  },
  {
   "cell_type": "code",
   "execution_count": 58,
   "id": "36086cce",
   "metadata": {},
   "outputs": [
    {
     "name": "stdout",
     "output_type": "stream",
     "text": [
      "[0, 4, 16, 36, 64, 100, 144, 196, 256, 324, 400, 484, 576, 676, 784, 900, 1024, 1156, 1296, 1444, 1600, 1764, 1936, 2116, 2304, 2500, 2704, 2916, 3136, 3364, 3600, 3844, 4096, 4356, 4624, 4900, 5184, 5476, 5776, 6084, 6400, 6724, 7056, 7396, 7744, 8100, 8464, 8836, 9216, 9604]\n"
     ]
    }
   ],
   "source": [
    "# Filtrer une liste pour ne garder que les nombres pairs\n",
    "liste_carre_comprehension_paire = [x ** 2 for x in range(99) if x % 2 == 0]\n",
    "print(liste_carre_comprehension_paire)"
   ]
  },
  {
   "cell_type": "code",
   "execution_count": 59,
   "id": "55cb38cb",
   "metadata": {},
   "outputs": [
    {
     "data": {
      "text/plain": [
       "['JEAN', 'PAUL', 'MARIE', 'MARC', 'MALIK', 'ETAN']"
      ]
     },
     "execution_count": 59,
     "metadata": {},
     "output_type": "execute_result"
    }
   ],
   "source": [
    "# Tranformer des noms en majuscule\n",
    "liste_nom = [\"jean\", \"paul\", \"marie\", \"marc\", \"malik\", \"etan\"]\n",
    "liste_nom_majuscule = [x.upper() for x in liste_nom]\n",
    "liste_nom_majuscule"
   ]
  },
  {
   "cell_type": "code",
   "execution_count": 74,
   "id": "19c61e4c",
   "metadata": {},
   "outputs": [
    {
     "name": "stdout",
     "output_type": "stream",
     "text": [
      "['Bonjour', 'monde', 'Python', 'génial']\n"
     ]
    }
   ],
   "source": [
    "# Exercice afficher que les mots de plus de 3 caractères\n",
    "mots = [\"Bonjour\", \"le\", \"monde\", \"Python\", \"est\", \"génial\"]\n",
    "trois_lettre = [x for x in mots if len(x) > 3]\n",
    "print(trois_lettre)"
   ]
  },
  {
   "cell_type": "markdown",
   "id": "00f7fe38",
   "metadata": {},
   "source": [
    "# Formule générale"
   ]
  },
  {
   "cell_type": "code",
   "execution_count": 76,
   "id": "0731c21c",
   "metadata": {},
   "outputs": [
    {
     "name": "stdout",
     "output_type": "stream",
     "text": [
      "{0: 0, 1: 1, 2: 4, 3: 9, 4: 16, 5: 25, 6: 36, 7: 49, 8: 64, 9: 81, 10: 100, 11: 121, 12: 144, 13: 169, 14: 196, 15: 225, 16: 256, 17: 289, 18: 324, 19: 361, 20: 400, 21: 441, 22: 484, 23: 529, 24: 576, 25: 625, 26: 676, 27: 729, 28: 784, 29: 841, 30: 900, 31: 961, 32: 1024, 33: 1089, 34: 1156, 35: 1225, 36: 1296, 37: 1369, 38: 1444, 39: 1521, 40: 1600, 41: 1681, 42: 1764, 43: 1849, 44: 1936, 45: 2025, 46: 2116, 47: 2209, 48: 2304, 49: 2401, 50: 2500, 51: 2601, 52: 2704, 53: 2809, 54: 2916, 55: 3025, 56: 3136, 57: 3249, 58: 3364, 59: 3481, 60: 3600, 61: 3721, 62: 3844, 63: 3969, 64: 4096, 65: 4225, 66: 4356, 67: 4489, 68: 4624, 69: 4761, 70: 4900, 71: 5041, 72: 5184, 73: 5329, 74: 5476, 75: 5625, 76: 5776, 77: 5929, 78: 6084, 79: 6241, 80: 6400, 81: 6561, 82: 6724, 83: 6889, 84: 7056, 85: 7225, 86: 7396, 87: 7569, 88: 7744, 89: 7921, 90: 8100, 91: 8281, 92: 8464, 93: 8649, 94: 8836, 95: 9025, 96: 9216, 97: 9409, 98: 9604}\n"
     ]
    }
   ],
   "source": [
    "# dictionnaire ave les nombres au carré de 0 à 99\n",
    "dict_carre ={k:k**2 for k in range(0,99)}\n",
    "print(dict_carre)"
   ]
  },
  {
   "cell_type": "code",
   "execution_count": 77,
   "id": "1ec97dfa",
   "metadata": {},
   "outputs": [
    {
     "name": "stdout",
     "output_type": "stream",
     "text": [
      "{0: 0, 2: 4, 4: 16, 6: 36, 8: 64, 10: 100, 12: 144, 14: 196, 16: 256, 18: 324, 20: 400, 22: 484, 24: 576, 26: 676, 28: 784, 30: 900, 32: 1024, 34: 1156, 36: 1296, 38: 1444, 40: 1600, 42: 1764, 44: 1936, 46: 2116, 48: 2304, 50: 2500, 52: 2704, 54: 2916, 56: 3136, 58: 3364, 60: 3600, 62: 3844, 64: 4096, 66: 4356, 68: 4624, 70: 4900, 72: 5184, 74: 5476, 76: 5776, 78: 6084, 80: 6400, 82: 6724, 84: 7056, 86: 7396, 88: 7744, 90: 8100, 92: 8464, 94: 8836, 96: 9216, 98: 9604}\n"
     ]
    }
   ],
   "source": [
    "# dictionnaire uniquement avec les nombres pairs\n",
    "dict_carre_pair = {k:k**2 for k in range(0,99) if k % 2 == 0}\n",
    "print(dict_carre_pair)"
   ]
  },
  {
   "cell_type": "code",
   "execution_count": 79,
   "id": "da0fee91",
   "metadata": {},
   "outputs": [
    {
     "data": {
      "text/plain": [
       "{30: 'pommes', 15: 'bananes', 20: 'cerises'}"
      ]
     },
     "execution_count": 79,
     "metadata": {},
     "output_type": "execute_result"
    }
   ],
   "source": [
    "# faire l'inverse de l'inventaire\n",
    "inventaire = {'pommes': 30, 'bananes': 15, 'cerises': 20}\n",
    "inventaire_inv = {v: k for k, v in inventaire.items()}\n",
    "inventaire_inv"
   ]
  },
  {
   "cell_type": "markdown",
   "id": "427adbcb",
   "metadata": {},
   "source": [
    "# Fornctios natives en Python\n",
    "\n",
    "La documentation des fonctions natives :https://docs.python.org/fr/3/library/functions.html#abs"
   ]
  },
  {
   "cell_type": "code",
   "execution_count": 80,
   "id": "3cc66076",
   "metadata": {},
   "outputs": [
    {
     "name": "stdout",
     "output_type": "stream",
     "text": [
      "Bonjour\n"
     ]
    }
   ],
   "source": [
    "# print\n",
    "print(\"Bonjour\")"
   ]
  },
  {
   "cell_type": "code",
   "execution_count": 83,
   "id": "2b10fba7",
   "metadata": {},
   "outputs": [
    {
     "data": {
      "text/plain": [
       "'La temperature à Marseille est de 25 degrés'"
      ]
     },
     "execution_count": 83,
     "metadata": {},
     "output_type": "execute_result"
    }
   ],
   "source": [
    "# format (à connaître)\n",
    "temperature = 25\n",
    "ville = \"Marseille\"\n",
    "resultat = f\"La temperature à {ville} est de {temperature} degrés\"\n",
    "resultat"
   ]
  },
  {
   "cell_type": "code",
   "execution_count": 84,
   "id": "b1d23eb3",
   "metadata": {},
   "outputs": [
    {
     "name": "stdout",
     "output_type": "stream",
     "text": [
      "Quel est votre âge ?22\n"
     ]
    }
   ],
   "source": [
    "# input\n",
    "age = input(\"Quel est votre âge ?\")"
   ]
  },
  {
   "cell_type": "code",
   "execution_count": 87,
   "id": "047cb070",
   "metadata": {},
   "outputs": [
    {
     "name": "stdout",
     "output_type": "stream",
     "text": [
      "22\n"
     ]
    },
    {
     "data": {
      "text/plain": [
       "str"
      ]
     },
     "execution_count": 87,
     "metadata": {},
     "output_type": "execute_result"
    }
   ],
   "source": [
    "print(age)\n",
    "type(age)"
   ]
  },
  {
   "cell_type": "code",
   "execution_count": 89,
   "id": "6582a8a2",
   "metadata": {},
   "outputs": [
    {
     "name": "stdout",
     "output_type": "stream",
     "text": [
      "22\n"
     ]
    },
    {
     "data": {
      "text/plain": [
       "int"
      ]
     },
     "execution_count": 89,
     "metadata": {},
     "output_type": "execute_result"
    }
   ],
   "source": [
    "# comment transformer les strings en integer\n",
    "age_int = int(age)\n",
    "print(age_int)\n",
    "type(age_int)"
   ]
  },
  {
   "cell_type": "code",
   "execution_count": 93,
   "id": "218a076b",
   "metadata": {},
   "outputs": [
    {
     "data": {
      "text/plain": [
       "5"
      ]
     },
     "execution_count": 93,
     "metadata": {},
     "output_type": "execute_result"
    }
   ],
   "source": [
    "# abs\n",
    "x = -5\n",
    "abs(x)"
   ]
  },
  {
   "cell_type": "code",
   "execution_count": 99,
   "id": "02fc9a3a",
   "metadata": {},
   "outputs": [
    {
     "name": "stdout",
     "output_type": "stream",
     "text": [
      "2\n",
      "1\n"
     ]
    }
   ],
   "source": [
    "# round\n",
    "y = 1.7555\n",
    "r = 1.4999\n",
    "print(round(y))\n",
    "print(round(r))"
   ]
  },
  {
   "cell_type": "code",
   "execution_count": 109,
   "id": "a7b8c798",
   "metadata": {},
   "outputs": [
    {
     "data": {
      "text/plain": [
       "41"
      ]
     },
     "execution_count": 109,
     "metadata": {},
     "output_type": "execute_result"
    }
   ],
   "source": [
    "# max (liste)\n",
    "liste = [4, 8, 4, 0, 6, 7, 41]\n",
    "liste2 = [0, 0, 0, 0]\n",
    "max(liste)"
   ]
  },
  {
   "cell_type": "code",
   "execution_count": 101,
   "id": "0a9b128b",
   "metadata": {},
   "outputs": [
    {
     "data": {
      "text/plain": [
       "4"
      ]
     },
     "execution_count": 101,
     "metadata": {},
     "output_type": "execute_result"
    }
   ],
   "source": [
    "# min (liste)\n",
    "min(liste)"
   ]
  },
  {
   "cell_type": "code",
   "execution_count": 102,
   "id": "9d4a4ea7",
   "metadata": {},
   "outputs": [
    {
     "data": {
      "text/plain": [
       "70"
      ]
     },
     "execution_count": 102,
     "metadata": {},
     "output_type": "execute_result"
    }
   ],
   "source": [
    "# sum\n",
    "sum(liste)"
   ]
  },
  {
   "cell_type": "code",
   "execution_count": 111,
   "id": "2dd81026",
   "metadata": {},
   "outputs": [
    {
     "data": {
      "text/plain": [
       "False"
      ]
     },
     "execution_count": 111,
     "metadata": {},
     "output_type": "execute_result"
    }
   ],
   "source": [
    "# all (vrai ou différent de zéro)\n",
    "all(liste2)"
   ]
  },
  {
   "cell_type": "code",
   "execution_count": 110,
   "id": "ba766de3",
   "metadata": {},
   "outputs": [
    {
     "data": {
      "text/plain": [
       "False"
      ]
     },
     "execution_count": 110,
     "metadata": {},
     "output_type": "execute_result"
    }
   ],
   "source": [
    "# any (vrai ou différent de zéro)\n",
    "any(liste2)"
   ]
  },
  {
   "cell_type": "code",
   "execution_count": 103,
   "id": "c719548e",
   "metadata": {},
   "outputs": [
    {
     "data": {
      "text/plain": [
       "6"
      ]
     },
     "execution_count": 103,
     "metadata": {},
     "output_type": "execute_result"
    }
   ],
   "source": [
    "# len\n",
    "len(liste)"
   ]
  },
  {
   "cell_type": "code",
   "execution_count": 117,
   "id": "4a243633",
   "metadata": {},
   "outputs": [
    {
     "data": {
      "text/plain": [
       "range(0, 99, 5)"
      ]
     },
     "execution_count": 117,
     "metadata": {},
     "output_type": "execute_result"
    }
   ],
   "source": [
    "# range\n",
    "ensemble = range(0, 99, 5)\n",
    "ensemble"
   ]
  },
  {
   "cell_type": "code",
   "execution_count": 118,
   "id": "6e1af653",
   "metadata": {},
   "outputs": [
    {
     "data": {
      "text/plain": [
       "range"
      ]
     },
     "execution_count": 118,
     "metadata": {},
     "output_type": "execute_result"
    }
   ],
   "source": [
    "# type\n",
    "type(ensemble)"
   ]
  },
  {
   "cell_type": "code",
   "execution_count": 125,
   "id": "f22f3183",
   "metadata": {},
   "outputs": [
    {
     "data": {
      "text/plain": [
       "tuple"
      ]
     },
     "execution_count": 125,
     "metadata": {},
     "output_type": "execute_result"
    }
   ],
   "source": [
    "# conversion list, tuple, dictionnaire\n",
    "# list_ensemble = list(ensemble)\n",
    "# list_ensemble \n",
    "tuple_ensemble = tuple(ensemble)\n",
    "type(tuple_ensemble)"
   ]
  },
  {
   "cell_type": "code",
   "execution_count": null,
   "id": "d4a4d514",
   "metadata": {},
   "outputs": [],
   "source": [
    "# conversion float, int string"
   ]
  },
  {
   "cell_type": "markdown",
   "id": "efa282f0",
   "metadata": {},
   "source": [
    "# Bien démarrer avec les packages"
   ]
  },
  {
   "cell_type": "code",
   "execution_count": null,
   "id": "ecfc39d4",
   "metadata": {},
   "outputs": [],
   "source": []
  },
  {
   "cell_type": "code",
   "execution_count": null,
   "id": "465ee70c",
   "metadata": {},
   "outputs": [],
   "source": []
  },
  {
   "cell_type": "code",
   "execution_count": null,
   "id": "380d7c06",
   "metadata": {},
   "outputs": [],
   "source": []
  },
  {
   "cell_type": "code",
   "execution_count": null,
   "id": "e5a63cf6",
   "metadata": {},
   "outputs": [],
   "source": []
  },
  {
   "cell_type": "code",
   "execution_count": null,
   "id": "15618aba",
   "metadata": {},
   "outputs": [],
   "source": []
  },
  {
   "cell_type": "code",
   "execution_count": null,
   "id": "812f4b74",
   "metadata": {},
   "outputs": [],
   "source": []
  },
  {
   "cell_type": "code",
   "execution_count": null,
   "id": "b48027dd",
   "metadata": {},
   "outputs": [],
   "source": []
  },
  {
   "cell_type": "code",
   "execution_count": null,
   "id": "3138ca93",
   "metadata": {},
   "outputs": [],
   "source": []
  },
  {
   "cell_type": "code",
   "execution_count": null,
   "id": "daa48068",
   "metadata": {},
   "outputs": [],
   "source": []
  },
  {
   "cell_type": "code",
   "execution_count": null,
   "id": "6bde27ca",
   "metadata": {},
   "outputs": [],
   "source": []
  }
 ],
 "metadata": {
  "kernelspec": {
   "display_name": "Python 3 (ipykernel)",
   "language": "python",
   "name": "python3"
  },
  "language_info": {
   "codemirror_mode": {
    "name": "ipython",
    "version": 3
   },
   "file_extension": ".py",
   "mimetype": "text/x-python",
   "name": "python",
   "nbconvert_exporter": "python",
   "pygments_lexer": "ipython3",
   "version": "3.10.9"
  }
 },
 "nbformat": 4,
 "nbformat_minor": 5
}
